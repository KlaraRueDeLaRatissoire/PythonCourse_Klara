{
  "nbformat": 4,
  "nbformat_minor": 0,
  "metadata": {
    "colab": {
      "provenance": [],
      "authorship_tag": "ABX9TyM1lNm4WP3YVENXRLEytJgG",
      "include_colab_link": true
    },
    "kernelspec": {
      "name": "python3",
      "display_name": "Python 3"
    },
    "language_info": {
      "name": "python"
    },
    "accelerator": "GPU",
    "gpuClass": "standard"
  },
  "cells": [
    {
      "cell_type": "markdown",
      "metadata": {
        "id": "view-in-github",
        "colab_type": "text"
      },
      "source": [
        "<a href=\"https://colab.research.google.com/github/KlaraRueDeLaRatissoire/PythonCourse_Klara/blob/master/CupyVsNumpy.ipynb\" target=\"_parent\"><img src=\"https://colab.research.google.com/assets/colab-badge.svg\" alt=\"Open In Colab\"/></a>"
      ]
    },
    {
      "cell_type": "code",
      "execution_count": 1,
      "metadata": {
        "colab": {
          "base_uri": "https://localhost:8080/"
        },
        "id": "pa50Is6JTYD-",
        "outputId": "4b6403f2-94bc-48d0-ba9a-adc72df8e38f"
      },
      "outputs": [
        {
          "output_type": "stream",
          "name": "stdout",
          "text": [
            "Thu Mar  9 12:17:58 2023       \n",
            "+-----------------------------------------------------------------------------+\n",
            "| NVIDIA-SMI 525.85.12    Driver Version: 525.85.12    CUDA Version: 12.0     |\n",
            "|-------------------------------+----------------------+----------------------+\n",
            "| GPU  Name        Persistence-M| Bus-Id        Disp.A | Volatile Uncorr. ECC |\n",
            "| Fan  Temp  Perf  Pwr:Usage/Cap|         Memory-Usage | GPU-Util  Compute M. |\n",
            "|                               |                      |               MIG M. |\n",
            "|===============================+======================+======================|\n",
            "|   0  Tesla T4            Off  | 00000000:00:04.0 Off |                    0 |\n",
            "| N/A   58C    P0    29W /  70W |      0MiB / 15360MiB |      0%      Default |\n",
            "|                               |                      |                  N/A |\n",
            "+-------------------------------+----------------------+----------------------+\n",
            "                                                                               \n",
            "+-----------------------------------------------------------------------------+\n",
            "| Processes:                                                                  |\n",
            "|  GPU   GI   CI        PID   Type   Process name                  GPU Memory |\n",
            "|        ID   ID                                                   Usage      |\n",
            "|=============================================================================|\n",
            "|  No running processes found                                                 |\n",
            "+-----------------------------------------------------------------------------+\n"
          ]
        }
      ],
      "source": [
        "!nvidia-smi\n"
      ]
    },
    {
      "cell_type": "code",
      "source": [
        "import cupy as cp\n",
        "\n",
        "print('timing with cupy')\n",
        "for n in [32,128,256,512,1024,2048]:\n",
        "  x = cp.random.random(n**2).reshape(n,n)\n",
        "  print('timing for n={}'.format(n))\n",
        "  %timeit cp.fft.fft2(x)"
      ],
      "metadata": {
        "colab": {
          "base_uri": "https://localhost:8080/"
        },
        "id": "a0kgREVbUdg2",
        "outputId": "9249fbc4-c5b5-487e-befd-86a67416b9c9"
      },
      "execution_count": 21,
      "outputs": [
        {
          "output_type": "stream",
          "name": "stdout",
          "text": [
            "timing with cupy\n",
            "timing for n=32\n",
            "82.8 µs ± 12.8 µs per loop (mean ± std. dev. of 7 runs, 10000 loops each)\n",
            "timing for n=128\n",
            "69.4 µs ± 1.43 µs per loop (mean ± std. dev. of 7 runs, 10000 loops each)\n",
            "timing for n=256\n",
            "79.9 µs ± 13.3 µs per loop (mean ± std. dev. of 7 runs, 10000 loops each)\n",
            "timing for n=512\n",
            "260 µs ± 753 ns per loop (mean ± std. dev. of 7 runs, 10000 loops each)\n",
            "timing for n=1024\n",
            "1.14 ms ± 3.4 µs per loop (mean ± std. dev. of 7 runs, 1000 loops each)\n",
            "timing for n=2048\n",
            "4.33 ms ± 16.8 µs per loop (mean ± std. dev. of 7 runs, 1000 loops each)\n"
          ]
        }
      ]
    },
    {
      "cell_type": "code",
      "source": [
        "import cupy as cp\n",
        "\n",
        "print('timing with cupy')\n",
        "for n in [32,128,256,512,1024,2048]:\n",
        "  x = cp.array(cp.random.random(n**2).reshape(n,n), dtype=np.float32)\n",
        "  print('timing for n={}'.format(n))\n",
        "  %timeit cp.fft.fft2(x)"
      ],
      "metadata": {
        "colab": {
          "base_uri": "https://localhost:8080/"
        },
        "id": "aVujY2VNbcBy",
        "outputId": "18584a99-2e55-4105-92f4-298d45024d8e"
      },
      "execution_count": 25,
      "outputs": [
        {
          "output_type": "stream",
          "name": "stdout",
          "text": [
            "timing with cupy\n",
            "timing for n=32\n",
            "97.3 µs ± 48.9 µs per loop (mean ± std. dev. of 7 runs, 1 loop each)\n",
            "timing for n=128\n",
            "81.2 µs ± 12.7 µs per loop (mean ± std. dev. of 7 runs, 10000 loops each)\n",
            "timing for n=256\n",
            "67.7 µs ± 676 ns per loop (mean ± std. dev. of 7 runs, 10000 loops each)\n",
            "timing for n=512\n",
            "78.5 µs ± 12.8 µs per loop (mean ± std. dev. of 7 runs, 10000 loops each)\n",
            "timing for n=1024\n",
            "233 µs ± 815 ns per loop (mean ± std. dev. of 7 runs, 10000 loops each)\n",
            "timing for n=2048\n",
            "966 µs ± 419 ns per loop (mean ± std. dev. of 7 runs, 1000 loops each)\n"
          ]
        }
      ]
    },
    {
      "cell_type": "code",
      "source": [
        "import numpy as np\n",
        "\n",
        "print('timing with numpy')\n",
        "for n in [32,128,256,512,1024,2048]:\n",
        "  x = np.random.random(n**2).reshape(n,n)\n",
        "  print('timing for n={}'.format(n))\n",
        "  %timeit np.fft.fft2(x)"
      ],
      "metadata": {
        "colab": {
          "base_uri": "https://localhost:8080/"
        },
        "id": "qsOJAyFBXKwA",
        "outputId": "71160c26-171a-4bbe-97f1-761f3384072b"
      },
      "execution_count": 22,
      "outputs": [
        {
          "output_type": "stream",
          "name": "stdout",
          "text": [
            "timing with numpy\n",
            "timing for n=32\n",
            "43.8 µs ± 11 µs per loop (mean ± std. dev. of 7 runs, 10000 loops each)\n",
            "timing for n=128\n",
            "236 µs ± 15.9 µs per loop (mean ± std. dev. of 7 runs, 1000 loops each)\n",
            "timing for n=256\n",
            "1.12 ms ± 283 µs per loop (mean ± std. dev. of 7 runs, 1000 loops each)\n",
            "timing for n=512\n",
            "4.85 ms ± 74.6 µs per loop (mean ± std. dev. of 7 runs, 100 loops each)\n",
            "timing for n=1024\n",
            "27 ms ± 637 µs per loop (mean ± std. dev. of 7 runs, 10 loops each)\n",
            "timing for n=2048\n",
            "154 ms ± 16.3 ms per loop (mean ± std. dev. of 7 runs, 10 loops each)\n"
          ]
        }
      ]
    },
    {
      "cell_type": "code",
      "source": [
        "import numpy as np\n",
        "\n",
        "print('timing with numpy and dtype=np.float32')\n",
        "for n in [32,128,256,512,1024,2048]:\n",
        "  x = np.array(np.random.random(n**2).reshape(n,n), dtype=np.float32)\n",
        "  print('timing for n={}'.format(n))\n",
        "  %timeit np.fft.fft2(x)\n"
      ],
      "metadata": {
        "colab": {
          "base_uri": "https://localhost:8080/"
        },
        "id": "rEi16nwlXyVr",
        "outputId": "b254a023-265b-4571-b7cd-c44e4e94b883"
      },
      "execution_count": 24,
      "outputs": [
        {
          "output_type": "stream",
          "name": "stdout",
          "text": [
            "timing with numpy and dtype=np.int32\n",
            "timing for n=32\n",
            "29.9 µs ± 824 ns per loop (mean ± std. dev. of 7 runs, 10000 loops each)\n",
            "timing for n=128\n",
            "224 µs ± 8.52 µs per loop (mean ± std. dev. of 7 runs, 1000 loops each)\n",
            "timing for n=256\n",
            "1.13 ms ± 264 µs per loop (mean ± std. dev. of 7 runs, 1000 loops each)\n",
            "timing for n=512\n",
            "4.86 ms ± 208 µs per loop (mean ± std. dev. of 7 runs, 100 loops each)\n",
            "timing for n=1024\n",
            "36.9 ms ± 6.63 ms per loop (mean ± std. dev. of 7 runs, 10 loops each)\n",
            "timing for n=2048\n",
            "157 ms ± 15.5 ms per loop (mean ± std. dev. of 7 runs, 10 loops each)\n"
          ]
        }
      ]
    },
    {
      "cell_type": "code",
      "source": [],
      "metadata": {
        "id": "Qa1WB46uXy7O"
      },
      "execution_count": null,
      "outputs": []
    }
  ]
}